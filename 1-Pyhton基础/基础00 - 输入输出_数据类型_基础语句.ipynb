{
 "cells": [
  {
   "cell_type": "markdown",
   "metadata": {},
   "source": [
    "# Python学习 -  基础篇 00\n",
    "--- "
   ]
  },
  {
   "cell_type": "markdown",
   "metadata": {},
   "source": [
    "## 输入输出"
   ]
  },
  {
   "cell_type": "markdown",
   "metadata": {},
   "source": [
    "### 输出 print()"
   ]
  },
  {
   "cell_type": "markdown",
   "metadata": {},
   "source": [
    "**基本用法**\n",
    "- `print(str)`\n",
    "- `print(str1,str2,str3...)`"
   ]
  },
  {
   "cell_type": "code",
   "execution_count": 1,
   "metadata": {
    "scrolled": true
   },
   "outputs": [
    {
     "name": "stdout",
     "output_type": "stream",
     "text": [
      "100\n",
      "hello world\n",
      "hello world 100\n"
     ]
    }
   ],
   "source": [
    "print(100)\n",
    "print('hello world')\n",
    "print('hello','world',100)"
   ]
  },
  {
   "cell_type": "markdown",
   "metadata": {},
   "source": [
    "### 输入 input()"
   ]
  },
  {
   "cell_type": "code",
   "execution_count": 2,
   "metadata": {
    "scrolled": true
   },
   "outputs": [
    {
     "name": "stdout",
     "output_type": "stream",
     "text": [
      "3\n",
      "aa=\n"
     ]
    }
   ],
   "source": [
    "aa = input()\n",
    "print('aa=')"
   ]
  },
  {
   "cell_type": "markdown",
   "metadata": {},
   "source": [
    "---"
   ]
  },
  {
   "cell_type": "markdown",
   "metadata": {},
   "source": [
    "## 数据类型 \n",
    "- 数字 `100`,`0.1`\n",
    "- 字符串 `'hello world'`\n",
    "- 布尔值 `True` `False`\n",
    "- 列表list `[1,2,3,4,5]`\n",
    "- 元组tuple `(1,2,3)`\n",
    "- 字典dict `{'Michael': 95, 'Bob': 75, 'Tracy': 85}`\n",
    "- set `{'Michael', 'Bob', 'Tracy'}`"
   ]
  },
  {
   "cell_type": "markdown",
   "metadata": {},
   "source": [
    "### 数字 \n",
    "- 整数，浮点数"
   ]
  },
  {
   "cell_type": "markdown",
   "metadata": {},
   "source": [
    "### 字符串\n",
    "- **单引号''或双引号\"\"都行**"
   ]
  },
  {
   "cell_type": "code",
   "execution_count": 3,
   "metadata": {},
   "outputs": [
    {
     "name": "stdout",
     "output_type": "stream",
     "text": [
      "hello world hello world\n"
     ]
    }
   ],
   "source": [
    "print('hello world',\"hello world\")"
   ]
  },
  {
   "cell_type": "markdown",
   "metadata": {},
   "source": [
    "- **len() 计算长度**  \n",
    "\n",
    "len()是python内置函数，不只可用于字符串"
   ]
  },
  {
   "cell_type": "code",
   "execution_count": 4,
   "metadata": {},
   "outputs": [
    {
     "name": "stdout",
     "output_type": "stream",
     "text": [
      "11\n"
     ]
    }
   ],
   "source": [
    "length = len('hello world')\n",
    "print(length)"
   ]
  },
  {
   "cell_type": "markdown",
   "metadata": {},
   "source": [
    "- **字符串格式化** \n",
    "    - `str % (参数...)`  类似c语言的 `%s %d %f %x ` \n",
    "    - `str.format(参数...)` 占位符用{number},number可以为空"
   ]
  },
  {
   "cell_type": "code",
   "execution_count": 5,
   "metadata": {},
   "outputs": [
    {
     "name": "stdout",
     "output_type": "stream",
     "text": [
      "年龄:13,性别:男\n"
     ]
    }
   ],
   "source": [
    "# str % (参数...) \n",
    "str1 = '年龄:%d,性别:%s' % (13,'男')\n",
    "print(str1)"
   ]
  },
  {
   "cell_type": "code",
   "execution_count": 6,
   "metadata": {},
   "outputs": [
    {
     "name": "stdout",
     "output_type": "stream",
     "text": [
      "年龄:13,性别:男\n"
     ]
    }
   ],
   "source": [
    "# str.format(参数...) 占位符用{number},number可以为空\n",
    "str2 = '年龄:{0},性别:{1}'.format(13,'男')\n",
    "print(str2)"
   ]
  },
  {
   "cell_type": "markdown",
   "metadata": {},
   "source": [
    "- **字符串分割** \n",
    "    > Python split() 通过指定分隔符对字符串进行切片，如果参数 num 有指定值，则分隔 num+1 个子字符串(分割num次)\n",
    "    - `str.split(str=\"\", num=string.count(str)).`"
   ]
  },
  {
   "cell_type": "code",
   "execution_count": 7,
   "metadata": {},
   "outputs": [
    {
     "name": "stdout",
     "output_type": "stream",
     "text": [
      "['@', 'BEEP=0', 'DATAFM=0', 'UCC128=1']\n",
      "['@', 'BEEP=0;DATAFM=0;UCC128=1']\n"
     ]
    }
   ],
   "source": [
    "str_para = '@;BEEP=0;DATAFM=0;UCC128=1'\n",
    "list_1 = str_para.split(';')\n",
    "list_2 = str_para.split(';',1)   \n",
    "print(list_1)\n",
    "print(list_2)"
   ]
  },
  {
   "cell_type": "markdown",
   "metadata": {},
   "source": [
    "### 列表 list"
   ]
  },
  {
   "cell_type": "markdown",
   "metadata": {},
   "source": [
    "> list是一种有序的集合，可以随时添加和删除其中的元素。   "
   ]
  },
  {
   "cell_type": "code",
   "execution_count": 8,
   "metadata": {},
   "outputs": [
    {
     "name": "stdout",
     "output_type": "stream",
     "text": [
      "['AAA', 'BBB', 'CCC']\n",
      "len =  3\n"
     ]
    }
   ],
   "source": [
    "list1 = ['AAA','BBB','CCC']\n",
    "print(list1)\n",
    "print('len = ',len(list1))"
   ]
  },
  {
   "cell_type": "code",
   "execution_count": 9,
   "metadata": {},
   "outputs": [
    {
     "name": "stdout",
     "output_type": "stream",
     "text": [
      "['AAA', 'BBB', 'CCC']\n",
      "append -->  ['AAA', 'BBB', 'CCC', 'DDD']\n",
      "pop -->  ['AAA', 'BBB', 'CCC']\n",
      "list1[-1] =   CCC\n"
     ]
    }
   ],
   "source": [
    "#增 删 查 改   \n",
    "print(list1)\n",
    "\n",
    "list1.append('DDD') # append 末尾增加元素\n",
    "print('append --> ', list1)\n",
    "\n",
    "list1.pop()   # pop 删除末尾元素\n",
    "print('pop --> ',list1)\n",
    "\n",
    "print('list1[-1] =  ',list1[-1])  #list[-1] 表示最后一个元素\n",
    "# 还有insert /remove ..等"
   ]
  },
  {
   "cell_type": "markdown",
   "metadata": {},
   "source": [
    "### 元组 tuple"
   ]
  },
  {
   "cell_type": "markdown",
   "metadata": {},
   "source": [
    "> 另一种有序列表叫元组：tuple。tuple和list非常类似，但是tuple一旦初始化就不能修改(指向永远不变)"
   ]
  },
  {
   "cell_type": "code",
   "execution_count": 10,
   "metadata": {},
   "outputs": [
    {
     "name": "stdout",
     "output_type": "stream",
     "text": [
      "('AAA', 'BBB', 'CCC')\n",
      "AAA BBB CCC\n"
     ]
    }
   ],
   "source": [
    "tuple1 = ('AAA','BBB','CCC')\n",
    "print(tuple1)\n",
    "print(tuple1[0],tuple1[1],tuple1[2])"
   ]
  },
  {
   "cell_type": "code",
   "execution_count": 11,
   "metadata": {},
   "outputs": [],
   "source": [
    "# tuple1[0] = 'DDD'  # tuple的值不可修改"
   ]
  },
  {
   "cell_type": "markdown",
   "metadata": {},
   "source": [
    "> 不可变的tuple有什么意义？因为tuple不可变，所以代码更安全。如果可能，能用tuple代替list就尽量用tuple。"
   ]
  },
  {
   "cell_type": "markdown",
   "metadata": {},
   "source": [
    "### 字典dict "
   ]
  },
  {
   "cell_type": "markdown",
   "metadata": {},
   "source": [
    "> Python内置了字典：dict的支持，dict全称dictionary，在其他语言中也称为map，使用键-值（key-value）存储，具有极快的查找速度。\n",
    "\n",
    ">基本格式 { key1:value1 , key2:value2 ,.... }"
   ]
  },
  {
   "cell_type": "code",
   "execution_count": 12,
   "metadata": {},
   "outputs": [],
   "source": [
    "dict_empty = {} # 创建一个空字典"
   ]
  },
  {
   "cell_type": "code",
   "execution_count": 13,
   "metadata": {},
   "outputs": [
    {
     "name": "stdout",
     "output_type": "stream",
     "text": [
      "auto\n"
     ]
    }
   ],
   "source": [
    "dict_config = {'com': 'auto', 'baud': 9600, 'enableRead': 'SCNTRG1'}\n",
    "print(dict_config['com'])"
   ]
  },
  {
   "cell_type": "code",
   "execution_count": 14,
   "metadata": {},
   "outputs": [
    {
     "name": "stdout",
     "output_type": "stream",
     "text": [
      "auto\n",
      "hand\n"
     ]
    }
   ],
   "source": [
    "dict_config['runTest'] = 'auto'  # 增加一对数据  \n",
    "print(dict_config['runTest'])\n",
    "dict_config['runTest'] = 'hand'  # 替换runTest的value\n",
    "print(dict_config['runTest'])"
   ]
  },
  {
   "cell_type": "markdown",
   "metadata": {},
   "source": [
    "### set "
   ]
  },
  {
   "cell_type": "markdown",
   "metadata": {},
   "source": [
    "> set和dict类似，也是一组key的集合，但不存储value。由于key不能重复，所以，在set中，没有重复的key。\n",
    "\n",
    "> 基本格式 {key1,key2,...}"
   ]
  },
  {
   "cell_type": "code",
   "execution_count": 15,
   "metadata": {},
   "outputs": [
    {
     "name": "stdout",
     "output_type": "stream",
     "text": [
      "{1, 2, 3}\n"
     ]
    }
   ],
   "source": [
    "set1 = {1,2,3}\n",
    "print(set1)"
   ]
  },
  {
   "cell_type": "code",
   "execution_count": 16,
   "metadata": {},
   "outputs": [
    {
     "name": "stdout",
     "output_type": "stream",
     "text": [
      "{1, 2, 3, 4}\n"
     ]
    }
   ],
   "source": [
    "set1.add(1)  # 重复元素在set中自动被过滤 \n",
    "set1.add(4)\n",
    "print(set1)"
   ]
  },
  {
   "cell_type": "code",
   "execution_count": 17,
   "metadata": {},
   "outputs": [
    {
     "name": "stdout",
     "output_type": "stream",
     "text": [
      "{1, 3, 4}\n"
     ]
    }
   ],
   "source": [
    "set1.remove(2)\n",
    "print(set1)"
   ]
  },
  {
   "cell_type": "markdown",
   "metadata": {},
   "source": [
    "--- "
   ]
  },
  {
   "cell_type": "markdown",
   "metadata": {},
   "source": [
    "## 基础语句（判断，循环，迭代）"
   ]
  },
  {
   "cell_type": "markdown",
   "metadata": {},
   "source": [
    "### 条件判断\n",
    "**基本格式：**\n",
    "```python\n",
    "if 条件1 :\n",
    "    pass\n",
    "elif 条件2 :\n",
    "    pass\n",
    "elif 条件3 :\n",
    "    pass\n",
    "else:\n",
    "    pass\n",
    "```"
   ]
  },
  {
   "cell_type": "code",
   "execution_count": 18,
   "metadata": {},
   "outputs": [
    {
     "name": "stdout",
     "output_type": "stream",
     "text": [
      "kid\n"
     ]
    }
   ],
   "source": [
    "age = 3\n",
    "if age >= 18:\n",
    "    print('adult')\n",
    "elif age >= 6:\n",
    "    print('teenager')\n",
    "else:\n",
    "    print('kid')"
   ]
  },
  {
   "cell_type": "markdown",
   "metadata": {},
   "source": [
    "**逻辑运算** \n",
    "- not\n",
    "- and \n",
    "- or"
   ]
  },
  {
   "cell_type": "code",
   "execution_count": 19,
   "metadata": {},
   "outputs": [
    {
     "name": "stdout",
     "output_type": "stream",
     "text": [
      "==========\n",
      "==========\n",
      "==========\n"
     ]
    }
   ],
   "source": [
    "if not False:\n",
    "    print ('==========')\n",
    "\n",
    "if True and True:\n",
    "    print ('==========')\n",
    "\n",
    "if True or False:\n",
    "    print ('==========')\n",
    "    "
   ]
  },
  {
   "cell_type": "markdown",
   "metadata": {},
   "source": [
    "### 循环"
   ]
  },
  {
   "cell_type": "markdown",
   "metadata": {},
   "source": [
    "**基本格式**\n",
    "- ```python\n",
    "for x in 集合体:\n",
    "    pass\n",
    "```\n",
    "- ```python\n",
    "while 条件 :\n",
    "    pass\n",
    "```"
   ]
  },
  {
   "cell_type": "code",
   "execution_count": 20,
   "metadata": {},
   "outputs": [
    {
     "name": "stdout",
     "output_type": "stream",
     "text": [
      "h\n",
      "e\n",
      "l\n",
      "l\n",
      "o\n"
     ]
    }
   ],
   "source": [
    "# for x in 集合体\n",
    "\n",
    "# string\n",
    "str1= 'hello'\n",
    "for x in str1:\n",
    "    print(x)"
   ]
  },
  {
   "cell_type": "code",
   "execution_count": 21,
   "metadata": {},
   "outputs": [
    {
     "name": "stdout",
     "output_type": "stream",
     "text": [
      "AAA\n",
      "BBB\n",
      "CCC\n"
     ]
    }
   ],
   "source": [
    "# list\n",
    "list1 = ['AAA','BBB','CCC']\n",
    "for x in list1:\n",
    "    print(x)\n",
    "    "
   ]
  },
  {
   "cell_type": "code",
   "execution_count": 22,
   "metadata": {},
   "outputs": [
    {
     "name": "stdout",
     "output_type": "stream",
     "text": [
      "AAA\n",
      "BBB\n",
      "CCC\n"
     ]
    }
   ],
   "source": [
    "# tuple\n",
    "tuple1 = ('AAA','BBB','CCC')\n",
    "for x in tuple1:\n",
    "    print(x)"
   ]
  },
  {
   "cell_type": "code",
   "execution_count": 23,
   "metadata": {},
   "outputs": [
    {
     "name": "stdout",
     "output_type": "stream",
     "text": [
      "AAA\n",
      "BBB\n",
      "CCC\n"
     ]
    }
   ],
   "source": [
    "# dict (for 遍历dict时只会遍历key)\n",
    "dict1 = {'AAA':1,'BBB':2,'CCC':3}   # \n",
    "for x in dict1:\n",
    "    print(x)"
   ]
  },
  {
   "cell_type": "code",
   "execution_count": 24,
   "metadata": {},
   "outputs": [
    {
     "name": "stdout",
     "output_type": "stream",
     "text": [
      "0\n",
      "1\n",
      "2\n",
      "3\n",
      "4\n"
     ]
    }
   ],
   "source": [
    "# range(a,b) 包含a ~ b-1的元素，即[a,b)\n",
    "for i in range(0,5):  \n",
    "    print(i)"
   ]
  },
  {
   "cell_type": "code",
   "execution_count": 25,
   "metadata": {},
   "outputs": [
    {
     "name": "stdout",
     "output_type": "stream",
     "text": [
      "0\n",
      "1\n",
      "2\n",
      "3\n",
      "4\n"
     ]
    }
   ],
   "source": [
    "# while \n",
    "i=0\n",
    "while i<5:\n",
    "    print(i)\n",
    "    i+=1"
   ]
  }
 ],
 "metadata": {
  "kernelspec": {
   "display_name": "Python 3",
   "language": "python",
   "name": "python3"
  },
  "language_info": {
   "codemirror_mode": {
    "name": "ipython",
    "version": 3
   },
   "file_extension": ".py",
   "mimetype": "text/x-python",
   "name": "python",
   "nbconvert_exporter": "python",
   "pygments_lexer": "ipython3",
   "version": "3.8.2"
  },
  "toc": {
   "base_numbering": 1,
   "nav_menu": {},
   "number_sections": true,
   "sideBar": true,
   "skip_h1_title": false,
   "title_cell": "Table of Contents",
   "title_sidebar": "Contents",
   "toc_cell": false,
   "toc_position": {},
   "toc_section_display": true,
   "toc_window_display": true
  }
 },
 "nbformat": 4,
 "nbformat_minor": 4
}
