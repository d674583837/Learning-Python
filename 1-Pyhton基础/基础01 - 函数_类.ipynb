{
 "cells": [
  {
   "cell_type": "markdown",
   "metadata": {},
   "source": [
    "# Python学习 -  基础篇 01\n",
    "--- "
   ]
  },
  {
   "cell_type": "markdown",
   "metadata": {},
   "source": [
    "## 函数"
   ]
  },
  {
   "cell_type": "markdown",
   "metadata": {},
   "source": [
    "### 定义和调用"
   ]
  },
  {
   "cell_type": "markdown",
   "metadata": {},
   "source": [
    "**基本格式**\n",
    "```python\n",
    "def 函数名(参数...):\n",
    "    ...\n",
    "    代码\n",
    "    ...\n",
    "    return 返回值(可以不return)\n",
    "```"
   ]
  },
  {
   "cell_type": "code",
   "execution_count": 1,
   "metadata": {},
   "outputs": [],
   "source": [
    "def my_func(x):\n",
    "    pass  # pass可以用来作为占位符，比如现在还没想好怎么写函数的代码，就可以先放一个pass，让代码能运行起来。"
   ]
  },
  {
   "cell_type": "markdown",
   "metadata": {},
   "source": [
    "**默认参数**"
   ]
  },
  {
   "cell_type": "code",
   "execution_count": 2,
   "metadata": {},
   "outputs": [
    {
     "name": "stdout",
     "output_type": "stream",
     "text": [
      "200\n",
      "300\n"
     ]
    }
   ],
   "source": [
    "def my_add(x,y = 100):\n",
    "    return x + y\n",
    "\n",
    "print(my_add(100))\n",
    "print(my_add(100,200))"
   ]
  },
  {
   "cell_type": "markdown",
   "metadata": {},
   "source": [
    "**返回多个值**"
   ]
  },
  {
   "cell_type": "code",
   "execution_count": 3,
   "metadata": {},
   "outputs": [],
   "source": [
    "def my_add2(x):\n",
    "    return x+1,x+2"
   ]
  },
  {
   "cell_type": "code",
   "execution_count": 4,
   "metadata": {},
   "outputs": [
    {
     "name": "stdout",
     "output_type": "stream",
     "text": [
      "4 5\n"
     ]
    }
   ],
   "source": [
    "x,y = my_add2(3)\n",
    "print(x,y)"
   ]
  },
  {
   "cell_type": "markdown",
   "metadata": {},
   "source": [
    "### 变量作用域"
   ]
  },
  {
   "cell_type": "markdown",
   "metadata": {},
   "source": [
    "> 内部代码可以访问外部变量，而外部代码通常无法访问内部变量  \n",
    "\n",
    "> 对于一个变量，Python 的查找顺序为：局部的命名空间去 -> 全局命名空间 -> 内置命名空间。"
   ]
  },
  {
   "cell_type": "code",
   "execution_count": 5,
   "metadata": {},
   "outputs": [
    {
     "name": "stdout",
     "output_type": "stream",
     "text": [
      "func1 局部变量 a = 2\n",
      "func2 内部访问 a = 1\n",
      "全局变量 a = 1\n"
     ]
    }
   ],
   "source": [
    "a = 1               # 全局变量\n",
    "\n",
    "def func1():\n",
    "    a = 2           # 局部变量\n",
    "    print('func1 局部变量 a =',a)      \n",
    "\n",
    "def func2():\n",
    "    print('func2 内部访问 a =',a)   # 可访问全局变量a\n",
    "    \n",
    "func1()\n",
    "func2()\n",
    "print('全局变量 a =',a)"
   ]
  },
  {
   "cell_type": "markdown",
   "metadata": {},
   "source": [
    "**global关键字**\n",
    "> 想在函数内部对函数外的变量进行操作，就需要在函数内部声明其为global"
   ]
  },
  {
   "cell_type": "code",
   "execution_count": 6,
   "metadata": {},
   "outputs": [
    {
     "name": "stdout",
     "output_type": "stream",
     "text": [
      "global 内部修改 a = 2\n",
      "全局变量 a = 2\n"
     ]
    }
   ],
   "source": [
    "a = 1               # 全局变量\n",
    "\n",
    "def func():\n",
    "    global a  # 声明当前使用的是全局变量a\n",
    "    a = 2           # 修改\n",
    "    print('global 内部修改 a =',a)        \n",
    "    \n",
    "func()\n",
    "print('全局变量 a =',a)"
   ]
  },
  {
   "cell_type": "markdown",
   "metadata": {},
   "source": [
    "---  "
   ]
  },
  {
   "cell_type": "markdown",
   "metadata": {},
   "source": [
    "## 类和实例"
   ]
  },
  {
   "cell_type": "markdown",
   "metadata": {},
   "source": [
    "### 定义\n",
    "**基本格式**\n",
    "- ```python\n",
    "class 类名(object):\n",
    "    类属性1 = xxx\n",
    "    def __init__(self,参数1,参数2...):   # 构造函数\n",
    "        self.实例属性1 = xxx\n",
    "        self.实例属性2 = xxx\n",
    "\n",
    "    def 方法1(self,参数1,参数2...):   # 注意： 第一个参数self，表示创建的实例本身\n",
    "        pass\n",
    "```"
   ]
  },
  {
   "cell_type": "code",
   "execution_count": 7,
   "metadata": {},
   "outputs": [],
   "source": [
    "class Student(object): #定义\n",
    "    pass\n",
    "\n",
    "stu1 = Student() #实例化"
   ]
  },
  {
   "cell_type": "markdown",
   "metadata": {},
   "source": [
    "**一个完整的类定义例子**"
   ]
  },
  {
   "cell_type": "code",
   "execution_count": 8,
   "metadata": {},
   "outputs": [],
   "source": [
    "class Student(object):\n",
    "    aaa = 'xxxx'\n",
    "\n",
    "    def __init__(self, name, age):   # 构造函数\n",
    "        self.__name = name\n",
    "        self.age = age\n",
    "    \n",
    "    def get_name(self):\n",
    "        return self.__name\n",
    "        \n",
    "    def get_age(self):\n",
    "        return self.age"
   ]
  },
  {
   "cell_type": "code",
   "execution_count": 9,
   "metadata": {},
   "outputs": [
    {
     "name": "stdout",
     "output_type": "stream",
     "text": [
      "阿大\n",
      "99\n",
      "99\n"
     ]
    }
   ],
   "source": [
    "stu1 = Student('阿大',99) #实例化\n",
    "print(stu1.get_name())\n",
    "print(stu1.get_age())\n",
    "# print(stu1._Student__name)\n",
    "print(stu1.age)"
   ]
  }
 ],
 "metadata": {
  "kernelspec": {
   "display_name": "Python 3",
   "language": "python",
   "name": "python3"
  },
  "language_info": {
   "codemirror_mode": {
    "name": "ipython",
    "version": 3
   },
   "file_extension": ".py",
   "mimetype": "text/x-python",
   "name": "python",
   "nbconvert_exporter": "python",
   "pygments_lexer": "ipython3",
   "version": "3.8.2"
  },
  "toc": {
   "base_numbering": 1,
   "nav_menu": {},
   "number_sections": true,
   "sideBar": true,
   "skip_h1_title": false,
   "title_cell": "Table of Contents",
   "title_sidebar": "Contents",
   "toc_cell": false,
   "toc_position": {},
   "toc_section_display": true,
   "toc_window_display": true
  }
 },
 "nbformat": 4,
 "nbformat_minor": 4
}
