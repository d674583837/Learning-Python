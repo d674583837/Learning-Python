{
 "cells": [
  {
   "cell_type": "markdown",
   "metadata": {},
   "source": [
    "# Python学习 -  进阶篇 00\n",
    "--- "
   ]
  },
  {
   "cell_type": "markdown",
   "metadata": {},
   "source": [
    "## 错误处理"
   ]
  },
  {
   "cell_type": "markdown",
   "metadata": {},
   "source": [
    "**基本格式**\n",
    "- ```python\n",
    "try:\n",
    "    ...\n",
    "except 错误类型1:\n",
    "    ...\n",
    "except 错误类型2\n",
    "    ...\n",
    "finally:  # 可以没有finally，但如果有finally一定会被执行\n",
    "    ...\n",
    "```"
   ]
  },
  {
   "cell_type": "code",
   "execution_count": 1,
   "metadata": {},
   "outputs": [
    {
     "name": "stdout",
     "output_type": "stream",
     "text": [
      "try...\n",
      "except: division by zero\n",
      "finally...\n"
     ]
    }
   ],
   "source": [
    "try:\n",
    "    print('try...')\n",
    "    r = 10 / 0\n",
    "    print('result:', r)\n",
    "except Exception as e:\n",
    "    print('except:', e)\n",
    "finally:\n",
    "    print('finally...')"
   ]
  },
  {
   "cell_type": "markdown",
   "metadata": {},
   "source": [
    "- 关于错误类型和继承关系[点击查看](https://docs.python.org/3/library/exceptions.html#exception-hierarchy)\n",
    "--- "
   ]
  },
  {
   "cell_type": "markdown",
   "metadata": {},
   "source": [
    "## 文件读写"
   ]
  },
  {
   "cell_type": "markdown",
   "metadata": {},
   "source": [
    "**基本格式**\n",
    "- ```python\n",
    "f = open('<路径>','<模式>' )  # 通过<模式>参数判断是读还是写 \n",
    "# 读\n",
    "f.read()\n",
    "# 写\n",
    "f.write('...')\n",
    "f.close()\n",
    "```\n",
    "所有模式的定义及含义可以参考Python的[官方文档](https://docs.python.org/3/library/functions.html#open)"
   ]
  },
  {
   "cell_type": "markdown",
   "metadata": {},
   "source": [
    "**读文件** \n",
    "```python\n",
    "f = open('<路径>', 'r')\n",
    "    - read()      # 一次读取文件的全部内容，返回str\n",
    "    - read(size)    # 最多读取size个字节的内容，返回str\n",
    "    - readlines()   # 一次读取所有内容并按行返回，返回list\n",
    "f.close()\n",
    "```"
   ]
  },
  {
   "cell_type": "code",
   "execution_count": 2,
   "metadata": {},
   "outputs": [
    {
     "name": "stdout",
     "output_type": "stream",
     "text": [
      "11111111\n",
      "22222\n",
      "333333333\n",
      "444444444444\n",
      "55555555\n"
     ]
    }
   ],
   "source": [
    "# read()\n",
    "f=open('files/testRead.txt', 'r')\n",
    "str_all = f.read()\n",
    "print(str_all)\n",
    "f.close()"
   ]
  },
  {
   "cell_type": "code",
   "execution_count": 3,
   "metadata": {
    "scrolled": true
   },
   "outputs": [
    {
     "name": "stdout",
     "output_type": "stream",
     "text": [
      "11111\n"
     ]
    }
   ],
   "source": [
    "# read(size)\n",
    "f=open('files/testRead.txt', 'r')\n",
    "str_5_size = f.read(5)\n",
    "print(str_5_size)\n",
    "f.close()"
   ]
  },
  {
   "cell_type": "code",
   "execution_count": 4,
   "metadata": {},
   "outputs": [
    {
     "name": "stdout",
     "output_type": "stream",
     "text": [
      "['11111111\\n', '22222\\n', '333333333\\n', '444444444444\\n', '55555555']\n"
     ]
    }
   ],
   "source": [
    "# readlines()\n",
    "f=open('files/testRead.txt', 'r')\n",
    "list_all = f.readlines()\n",
    "print(list_all)\n",
    "f.close()"
   ]
  },
  {
   "cell_type": "code",
   "execution_count": 5,
   "metadata": {},
   "outputs": [
    {
     "name": "stdout",
     "output_type": "stream",
     "text": [
      "11111111\n",
      "\n",
      "22222\n",
      "\n",
      "333333333\n",
      "\n",
      "444444444444\n",
      "\n",
      "55555555\n"
     ]
    }
   ],
   "source": [
    "# 一般用法\n",
    "f=open('files/testRead.txt', 'r')\n",
    "for line in f.readlines():\n",
    "    print(line)\n",
    "f.close()"
   ]
  },
  {
   "cell_type": "markdown",
   "metadata": {},
   "source": [
    "**写文件**\n",
    "```python\n",
    "f = open('<路径>','w')   # 模式 w - 覆盖模式； a - 追加模式 \n",
    "f.write('<内容>')\n",
    "f.close() # 调用close()方法时，才会把内容写进文件\n",
    "```"
   ]
  },
  {
   "cell_type": "code",
   "execution_count": 6,
   "metadata": {},
   "outputs": [],
   "source": [
    "f = open('files/testWrite.txt', 'w')  # 以'w'模式写入文件时，文件不存在会创建，如果文件已存在，会直接覆盖（相当于删掉后新写入一个文件）\n",
    "f.write('Hello, world! \\n')\n",
    "f.close()"
   ]
  },
  {
   "cell_type": "code",
   "execution_count": 7,
   "metadata": {},
   "outputs": [],
   "source": [
    "f = open('files/testWrite.txt', 'a')  # 以'w'模式写入文件时，文件不存在会创建，如果文件已存在，会直接覆盖（相当于删掉后新写入一个文件）\n",
    "f.write('Hello, world! \\n')\n",
    "f.close()"
   ]
  },
  {
   "cell_type": "markdown",
   "metadata": {},
   "source": [
    "### **文件IO加上错误处理**"
   ]
  },
  {
   "cell_type": "code",
   "execution_count": 8,
   "metadata": {},
   "outputs": [
    {
     "name": "stdout",
     "output_type": "stream",
     "text": [
      "[Errno 2] No such file or directory: 'files/testNone.txt'\n"
     ]
    }
   ],
   "source": [
    "try:\n",
    "    f = open('files/testNone.txt', 'r')  # testNone.txt不存在\n",
    "    print(f.read())\n",
    "except Exception as e:\n",
    "    print(e)\n",
    "finally:\n",
    "    if f:\n",
    "        f.close()"
   ]
  },
  {
   "cell_type": "markdown",
   "metadata": {},
   "source": [
    "**更简洁的语句—— with .. as ..**\n",
    "```python\n",
    "with open('<路径>','<模式>' ) as f:\n",
    "    f.read()\n",
    "    ....\n",
    "```\n",
    "> 执行with这个结构之后，f会自动调用close()(无论是否异常退出)。"
   ]
  },
  {
   "cell_type": "code",
   "execution_count": 9,
   "metadata": {
    "scrolled": true
   },
   "outputs": [
    {
     "name": "stdout",
     "output_type": "stream",
     "text": [
      "closed: False\n",
      "11111111\n",
      "22222\n",
      "333333333\n",
      "444444444444\n",
      "55555555\n",
      "closed: True\n"
     ]
    }
   ],
   "source": [
    "with open('files/testRead.txt', 'r') as f:\n",
    "    print('closed:',f.closed)\n",
    "    print(f.read())\n",
    "print('closed:',f.closed)"
   ]
  },
  {
   "cell_type": "markdown",
   "metadata": {},
   "source": [
    "- 测试异常时资源是否释放"
   ]
  },
  {
   "cell_type": "code",
   "execution_count": 10,
   "metadata": {},
   "outputs": [
    {
     "name": "stdout",
     "output_type": "stream",
     "text": [
      "closed: False\n"
     ]
    },
    {
     "ename": "ZeroDivisionError",
     "evalue": "division by zero",
     "output_type": "error",
     "traceback": [
      "\u001b[1;31m---------------------------------------------------------------------------\u001b[0m",
      "\u001b[1;31mZeroDivisionError\u001b[0m                         Traceback (most recent call last)",
      "\u001b[1;32m<ipython-input-10-acbdd0950a55>\u001b[0m in \u001b[0;36m<module>\u001b[1;34m\u001b[0m\n\u001b[0;32m      2\u001b[0m     \u001b[0mf2\u001b[0m\u001b[1;33m.\u001b[0m\u001b[0mwrite\u001b[0m\u001b[1;33m(\u001b[0m\u001b[1;34m'test error '\u001b[0m\u001b[1;33m)\u001b[0m     \u001b[1;31m# write要调用close()才会真正写入文件\u001b[0m\u001b[1;33m\u001b[0m\u001b[1;33m\u001b[0m\u001b[0m\n\u001b[0;32m      3\u001b[0m     \u001b[0mprint\u001b[0m\u001b[1;33m(\u001b[0m\u001b[1;34m'closed:'\u001b[0m\u001b[1;33m,\u001b[0m\u001b[0mf2\u001b[0m\u001b[1;33m.\u001b[0m\u001b[0mclosed\u001b[0m\u001b[1;33m)\u001b[0m\u001b[1;33m\u001b[0m\u001b[1;33m\u001b[0m\u001b[0m\n\u001b[1;32m----> 4\u001b[1;33m     \u001b[0ma\u001b[0m \u001b[1;33m=\u001b[0m \u001b[1;36m10\u001b[0m \u001b[1;33m/\u001b[0m \u001b[1;36m0\u001b[0m\u001b[1;33m\u001b[0m\u001b[1;33m\u001b[0m\u001b[0m\n\u001b[0m",
      "\u001b[1;31mZeroDivisionError\u001b[0m: division by zero"
     ]
    }
   ],
   "source": [
    "with open('files/testWrite.txt', 'w') as f2:\n",
    "    f2.write('test error ')     # write要调用close()才会真正写入文件\n",
    "    print('closed:',f2.closed)\n",
    "    a = 10 / 0"
   ]
  },
  {
   "cell_type": "code",
   "execution_count": 11,
   "metadata": {},
   "outputs": [
    {
     "name": "stdout",
     "output_type": "stream",
     "text": [
      "closed: True\n"
     ]
    }
   ],
   "source": [
    "print('closed:',f2.closed)"
   ]
  }
 ],
 "metadata": {
  "kernelspec": {
   "display_name": "Python 3",
   "language": "python",
   "name": "python3"
  },
  "language_info": {
   "codemirror_mode": {
    "name": "ipython",
    "version": 3
   },
   "file_extension": ".py",
   "mimetype": "text/x-python",
   "name": "python",
   "nbconvert_exporter": "python",
   "pygments_lexer": "ipython3",
   "version": "3.8.2"
  },
  "toc": {
   "base_numbering": 1,
   "nav_menu": {},
   "number_sections": true,
   "sideBar": true,
   "skip_h1_title": false,
   "title_cell": "Table of Contents",
   "title_sidebar": "Contents",
   "toc_cell": false,
   "toc_position": {},
   "toc_section_display": true,
   "toc_window_display": true
  }
 },
 "nbformat": 4,
 "nbformat_minor": 4
}
