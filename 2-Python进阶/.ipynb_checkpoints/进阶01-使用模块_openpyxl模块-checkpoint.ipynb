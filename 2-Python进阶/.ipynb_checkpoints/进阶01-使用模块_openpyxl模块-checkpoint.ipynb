{
 "cells": [
  {
   "cell_type": "markdown",
   "metadata": {},
   "source": [
    "# Python学习 -  进阶篇 01\n",
    "--- "
   ]
  },
  {
   "cell_type": "markdown",
   "metadata": {},
   "source": [
    "## 模块\n",
    "> 在Python中，一个.py文件就称之为一个模块（Module）  \n",
    "\n",
    "> 为了避免模块名冲突，Python又引入了按目录来组织模块的方法，称为包（Package）—— 包含`__init__.py`文件一个目录\n",
    "\n",
    "[模块和包的详细介绍](https://www.liaoxuefeng.com/wiki/1016959663602400/1017454145014176)"
   ]
  },
  {
   "cell_type": "markdown",
   "metadata": {},
   "source": [
    "### 导入模块\n",
    "```python\n",
    "- import 模块 as 别名\n",
    "- from (包/模块) import (模块/类/变量) as 别名\n",
    "```"
   ]
  },
  {
   "cell_type": "markdown",
   "metadata": {},
   "source": [
    "- `import`"
   ]
  },
  {
   "cell_type": "code",
   "execution_count": 1,
   "metadata": {
    "scrolled": true
   },
   "outputs": [
    {
     "name": "stdout",
     "output_type": "stream",
     "text": [
      "啊啊\n"
     ]
    }
   ],
   "source": [
    "import my_package.myModule as myModule\n",
    "student1 = myModule.Student('啊啊')\n",
    "print(student1.get_name())"
   ]
  },
  {
   "cell_type": "markdown",
   "metadata": {},
   "source": [
    "- `from xxx import xxx`"
   ]
  },
  {
   "cell_type": "code",
   "execution_count": 2,
   "metadata": {},
   "outputs": [],
   "source": [
    "from my_package.myModule import global_var\n",
    "from my_package.myModule import Student\n",
    "from my_package import myModule"
   ]
  },
  {
   "cell_type": "markdown",
   "metadata": {},
   "source": [
    "### 安装模块\n",
    "(cmd命令) `pip install XXXX`  \n",
    "\n",
    "---"
   ]
  },
  {
   "cell_type": "markdown",
   "metadata": {},
   "source": [
    "## Openpyxl模块——读写Excel"
   ]
  },
  {
   "cell_type": "markdown",
   "metadata": {},
   "source": [
    "**导入openpyxl模块**\n",
    "- `import openpyxl`\n",
    "\n",
    "**打开文件**  \n",
    "- `wb = openpyxl.load_workbook(<Excel路径>)` \n",
    "- `wb = openpyxl.load_workbook(<Excel路径>,keep_vba=True) // 打开xlsm`\n",
    "\n",
    "**打开子表**\n",
    "- `wb['子表名']`\n",
    "- `wb.worksheets[0] (0,1,2,....)`\n",
    "\n",
    "**访问数据** \n",
    "- 单个`子表.cell(row,col).value`\n",
    "- 单个`子表['xxx'].value (xxx 例如 A1 ....)`\n",
    "- 按行遍历 `子表.iter_rows(min_row ,max_row ,min_col ,max_col）`\n",
    "\n",
    "**修改数据**\n",
    "- `<cell>.value = xxx`\n",
    "\n",
    "**保存文档**\n",
    "- `wb.save(<Excel路径>)`"
   ]
  },
  {
   "cell_type": "markdown",
   "metadata": {},
   "source": [
    "### Demo"
   ]
  },
  {
   "cell_type": "code",
   "execution_count": 3,
   "metadata": {},
   "outputs": [],
   "source": [
    "import openpyxl"
   ]
  },
  {
   "cell_type": "code",
   "execution_count": 4,
   "metadata": {},
   "outputs": [
    {
     "data": {
      "text/plain": [
       "<openpyxl.workbook.workbook.Workbook at 0x2774c39f7f0>"
      ]
     },
     "execution_count": 4,
     "metadata": {},
     "output_type": "execute_result"
    }
   ],
   "source": [
    "# 打开文件  返回Workbook \n",
    "wb = openpyxl.load_workbook('files/用例库.xlsm',keep_vba=True) \n",
    "wb"
   ]
  },
  {
   "cell_type": "code",
   "execution_count": 5,
   "metadata": {},
   "outputs": [
    {
     "data": {
      "text/plain": [
       "<Worksheet \"配置\">"
      ]
     },
     "execution_count": 5,
     "metadata": {},
     "output_type": "execute_result"
    }
   ],
   "source": [
    "# 打开子表  返回Workbook \n",
    "book_config = wb['配置'] \n",
    "book_config"
   ]
  },
  {
   "cell_type": "code",
   "execution_count": 6,
   "metadata": {},
   "outputs": [
    {
     "name": "stdout",
     "output_type": "stream",
     "text": [
      "子表.(1,1): 变量名\n",
      "子表[A1]: 变量名\n"
     ]
    }
   ],
   "source": [
    "# 访问数据（单个访问）\n",
    "print('子表.(1,1):',book_config.cell(1,1).value)\n",
    "print('子表[A1]:' , book_config['A1'].value)"
   ]
  },
  {
   "cell_type": "code",
   "execution_count": 7,
   "metadata": {},
   "outputs": [
    {
     "name": "stdout",
     "output_type": "stream",
     "text": [
      "(<Cell '配置'.A1>, <Cell '配置'.B1>, <Cell '配置'.C1>)\n",
      "变量名\n",
      "变量说明\n",
      "变量数据1\n",
      "(<Cell '配置'.A2>, <Cell '配置'.B2>, <Cell '配置'.C2>)\n",
      "com\n",
      "com口名称\n",
      "auto\n",
      "(<Cell '配置'.A3>, <Cell '配置'.B3>, <Cell '配置'.C3>)\n",
      "baud\n",
      "波特率\n",
      "9600\n",
      "(<Cell '配置'.A4>, <Cell '配置'.B4>, <Cell '配置'.C4>)\n",
      "enableRead\n",
      "触发读码指令\n",
      "SCNTRG1\n",
      "(<Cell '配置'.A5>, <Cell '配置'.B5>, <Cell '配置'.C5>)\n",
      "runTest\n",
      "执行类型,自动和手动\n",
      "auto\n",
      "(<Cell '配置'.A6>, <Cell '配置'.B6>, <Cell '配置'.C6>)\n",
      "setType\n",
      "设置类型\n",
      "sendCmd\n",
      "(<Cell '配置'.A7>, <Cell '配置'.B7>, <Cell '配置'.C7>)\n",
      "saveToFlash\n",
      "发送的命令是否要保存到flash中,@保存,#不保存,选@比较适合无线产品,发送每个指令会有一定延迟\n",
      "@\n"
     ]
    }
   ],
   "source": [
    "# 访问数据（行遍历）\n",
    "for tuple_row in book_config.iter_rows():\n",
    "    print(tuple_row)   # 每一行都是一个tuple  (<Cell1>,<Cell2>,<Cell3>,<Cell4>,...)\n",
    "    for cell in tuple_row:\n",
    "        print(cell.value)"
   ]
  },
  {
   "cell_type": "code",
   "execution_count": 8,
   "metadata": {},
   "outputs": [],
   "source": [
    "# 修改数据\n",
    "cell_edit = book_config.cell(1,1)  # 找到要修改的Cell\n",
    "cell_edit.value = '修改后的数据'\n",
    "\n",
    "# 保存文档\n",
    "wb.save('files/用例库_new.xlsm')"
   ]
  }
 ],
 "metadata": {
  "kernelspec": {
   "display_name": "Python 3",
   "language": "python",
   "name": "python3"
  },
  "language_info": {
   "codemirror_mode": {
    "name": "ipython",
    "version": 3
   },
   "file_extension": ".py",
   "mimetype": "text/x-python",
   "name": "python",
   "nbconvert_exporter": "python",
   "pygments_lexer": "ipython3",
   "version": "3.8.2"
  },
  "toc": {
   "base_numbering": 1,
   "nav_menu": {},
   "number_sections": true,
   "sideBar": true,
   "skip_h1_title": false,
   "title_cell": "Table of Contents",
   "title_sidebar": "Contents",
   "toc_cell": false,
   "toc_position": {},
   "toc_section_display": true,
   "toc_window_display": true
  }
 },
 "nbformat": 4,
 "nbformat_minor": 4
}
