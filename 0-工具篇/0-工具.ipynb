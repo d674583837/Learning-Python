{
 "cells": [
  {
   "cell_type": "markdown",
   "metadata": {},
   "source": [
    "# Python学习 -  工具篇\n",
    "--- "
   ]
  },
  {
   "cell_type": "markdown",
   "metadata": {},
   "source": [
    "## Python"
   ]
  },
  {
   "cell_type": "markdown",
   "metadata": {},
   "source": [
    "- **版本 Python 3.8**\n",
    "- **环境变量设置**\n",
    "    - 控制面板->系统->高级系统设置->环境变量->系统变量->Path  添加下列两个路径：\n",
    "        - %Python% (python.exe所在文件夹路径)\n",
    "        - %Python%\\Scripts "
   ]
  },
  {
   "cell_type": "markdown",
   "metadata": {},
   "source": [
    "---"
   ]
  },
  {
   "cell_type": "markdown",
   "metadata": {},
   "source": [
    "## jupyter notebook"
   ]
  },
  {
   "cell_type": "markdown",
   "metadata": {},
   "source": [
    "> Jupyter Notebook是基于网页的用于交互计算的应用程序。其可被应用于全过程计算：**开发、文档编写、运行代码和展示结果**。  \n",
    "> ——Jupyter Notebook官方介绍"
   ]
  },
  {
   "cell_type": "markdown",
   "metadata": {},
   "source": [
    "- *这是文字说明。下面是代码和运行结果*"
   ]
  },
  {
   "cell_type": "code",
   "execution_count": 1,
   "metadata": {},
   "outputs": [
    {
     "name": "stdout",
     "output_type": "stream",
     "text": [
      "hello world !\n"
     ]
    }
   ],
   "source": [
    "print('hello world !')"
   ]
  },
  {
   "cell_type": "markdown",
   "metadata": {},
   "source": [
    "### 安装及使用"
   ]
  },
  {
   "cell_type": "markdown",
   "metadata": {},
   "source": [
    "直接打开cmd命令窗口操作"
   ]
  },
  {
   "cell_type": "markdown",
   "metadata": {},
   "source": [
    "- 安装 `pip3 install jupyter`\n",
    "- 使用 `jupyter-notebook`"
   ]
  },
  {
   "cell_type": "markdown",
   "metadata": {},
   "source": [
    "### 增加插件"
   ]
  },
  {
   "cell_type": "markdown",
   "metadata": {},
   "source": [
    "- **自动补全** \n",
    "    - （cmd窗口）`pip install jupyter_contrib_nbextensions`\n",
    "    - （cmd窗口）`jupyter contrib nbextension install --user --skip-running-check`\n",
    "    - 启动 Jupyter Notebook --> Nbextensions --> 勾选 Hinterland\n",
    "    - [参考网站](https://www.jianshu.com/p/0ab80f63af8a)\n",
    "\n",
    "- **自动生成目录插件** \n",
    "    - Nbextensions --> 勾选 Table of Contents"
   ]
  },
  {
   "cell_type": "markdown",
   "metadata": {},
   "source": [
    "---"
   ]
  },
  {
   "cell_type": "markdown",
   "metadata": {},
   "source": [
    "## PyCharm "
   ]
  },
  {
   "cell_type": "markdown",
   "metadata": {},
   "source": [
    "下载[社区版](https://www.jetbrains.com/pycharm/download/download-thanks.html?platform=windows&code=PCC)"
   ]
  }
 ],
 "metadata": {
  "kernelspec": {
   "display_name": "Python 3",
   "language": "python",
   "name": "python3"
  },
  "language_info": {
   "codemirror_mode": {
    "name": "ipython",
    "version": 3
   },
   "file_extension": ".py",
   "mimetype": "text/x-python",
   "name": "python",
   "nbconvert_exporter": "python",
   "pygments_lexer": "ipython3",
   "version": "3.8.2"
  },
  "toc": {
   "base_numbering": 1,
   "nav_menu": {},
   "number_sections": true,
   "sideBar": true,
   "skip_h1_title": false,
   "title_cell": "Table of Contents",
   "title_sidebar": "Contents",
   "toc_cell": false,
   "toc_position": {},
   "toc_section_display": true,
   "toc_window_display": true
  }
 },
 "nbformat": 4,
 "nbformat_minor": 4
}
